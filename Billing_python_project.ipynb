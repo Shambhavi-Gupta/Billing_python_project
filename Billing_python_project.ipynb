{
  "nbformat": 4,
  "nbformat_minor": 0,
  "metadata": {
    "colab": {
      "name": "Billing_python_project.ipynb",
      "provenance": [],
      "authorship_tag": "ABX9TyOujd02z9R1z04YX79Er/SO",
      "include_colab_link": true
    },
    "kernelspec": {
      "name": "python3",
      "display_name": "Python 3"
    },
    "language_info": {
      "name": "python"
    }
  },
  "cells": [
    {
      "cell_type": "markdown",
      "metadata": {
        "id": "view-in-github",
        "colab_type": "text"
      },
      "source": [
        "<a href=\"https://colab.research.google.com/github/Shambhavi-Gupta/Billing_python_project/blob/main/Billing_python_project.ipynb\" target=\"_parent\"><img src=\"https://colab.research.google.com/assets/colab-badge.svg\" alt=\"Open In Colab\"/></a>"
      ]
    },
    {
      "cell_type": "code",
      "metadata": {
        "id": "_VswjXaJg5N2"
      },
      "source": [
        "from tkinter import *\n",
        "\n",
        "window = Tk()\n",
        "window.geometry(\"800x700\")\n",
        "\n",
        "def calculate():\n",
        "\tpaneer_tikka = e1.get()\n",
        "\tfried_rice = e2.get()\n",
        "\tchowmein = e3.get()\n",
        "\tchilli_potato = e4.get()\n",
        "\ttotal = ((int(paneer_tikka)*150)+(int(fried_rice)*120)+(int(chowmein)*180)+(int(chilli_potato)*200))\n",
        "\tlabel12 = Label(window,text=total,font=\"times 25 bold\")\n",
        "\tlabel12.place(x=200,y=440)\n",
        "\n",
        "\n",
        "label6 = Label(window, text=\"CHINESE STALL\",font=\"times 30 bold\")\n",
        "label6.place(x=180, y=20)\n",
        "\n",
        "#---------menu option ------\n",
        "\n",
        "label1 = Label(window, text=\"MENU\", font=\"times 28 bold\")\n",
        "label1.place(x=550, y=70)\n",
        "\n",
        "label2 = Label(window,text=\"Paneer Tikka          Rs.150\",font=\"times 20 bold\")\n",
        "label2.place(x=450, y=120)\n",
        "\n",
        "label3 = Label(window,text=\"Fried Rice               Rs.120\",font=\"times 20 bold\")\n",
        "label3.place(x=450, y=150)\n",
        "\n",
        "label4 = Label(window,text=\"Chowmein               Rs.180\",font=\"times 20 bold\")\n",
        "label4.place(x=450, y=180)\n",
        "\n",
        "label5 = Label(window,text=\"Chilli Potato           Rs.200\",font=\"times 20 bold\")\n",
        "label5.place(x=450, y=210)\n",
        "\n",
        "label7 = Label(window, text=\"Select the items\", font=\"times 20 bold\")\n",
        "label7.place(x=80, y=90)\n",
        "\n",
        "label8 = Label(window, text=\"Paneer Tikka\", font=\"times 18\")\n",
        "label8.place(x=20,y=140)\n",
        "\n",
        "e1 = Entry(window)\n",
        "e1.place(x=20,y=180)\n",
        "\n",
        "label9 = Label(window, text=\"Fried Rice\", font=\"times 18\")\n",
        "label9.place(x=250,y=140)\n",
        "\n",
        "e2 = Entry(window)\n",
        "e2.place(x=250,y=180)\n",
        "\n",
        "\n",
        "label10 = Label(window, text=\"Chowmein\", font=\"times 18\")\n",
        "label10.place(x=20,y=220)\n",
        "\n",
        "e3 = Entry(window)\n",
        "e3.place(x=20,y=250)\n",
        "\n",
        "label11= Label(window, text=\"Chilli Potato\", font=\"times 18\")\n",
        "label11.place(x=250,y=215)\n",
        "\n",
        "e4 = Entry(window)\n",
        "e4.place(x=250,y=250)\n",
        "\n",
        "b2 = Button(window, text=\"BILL\",font=\"times 20 bold\",width=20,command=calculate)\n",
        "b2.place(x=100, y=350)\n",
        "\n",
        "window.mainloop()"
      ],
      "execution_count": null,
      "outputs": []
    }
  ]
}